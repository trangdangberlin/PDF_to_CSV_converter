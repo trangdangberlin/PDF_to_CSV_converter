{
  "nbformat": 4,
  "nbformat_minor": 0,
  "metadata": {
    "colab": {
      "provenance": [],
      "authorship_tag": "ABX9TyOFIvYR/6N1g0bU8pyr90sr",
      "include_colab_link": true
    },
    "kernelspec": {
      "name": "python3",
      "display_name": "Python 3"
    },
    "language_info": {
      "name": "python"
    }
  },
  "cells": [
    {
      "cell_type": "markdown",
      "metadata": {
        "id": "view-in-github",
        "colab_type": "text"
      },
      "source": [
        "<a href=\"https://colab.research.google.com/github/trangdangberlin/PDF_to_CSV_converter/blob/main/PDF_to_CSV_converter.ipynb\" target=\"_parent\"><img src=\"https://colab.research.google.com/assets/colab-badge.svg\" alt=\"Open In Colab\"/></a>"
      ]
    },
    {
      "cell_type": "code",
      "source": [
        "pip install PyPDF2"
      ],
      "metadata": {
        "id": "ve0O71IWhbOV"
      },
      "execution_count": null,
      "outputs": []
    },
    {
      "cell_type": "code",
      "source": [
        "import PyPDF2\n",
        "import csv\n",
        "\n",
        "def pdf_to_csv(input_pdf_path, output_csv_path):\n",
        "    pdf = PyPDF2.PdfReader(input_pdf_path)\n",
        "\n",
        "    with open(output_csv_path, 'w', newline='', encoding='utf-8') as csv_file:\n",
        "        csv_writer = csv.writer(csv_file)\n",
        "\n",
        "        for page_num in range(len(pdf.pages)):\n",
        "            page = pdf.pages[page_num]\n",
        "            text = page.extract_text()\n",
        "\n",
        "            # Split text into lines and write each line separately\n",
        "            lines = text.split('\\n')\n",
        "            for line in lines:\n",
        "                csv_writer.writerow([line])\n",
        "\n",
        "    print(f\"PDF successfully converted to CSV file. Output saved at: {output_csv_path}\")\n",
        "\n",
        "# Usage example\n",
        "input_pdf_path = \"2024-01_Example_File .pdf\"\n",
        "output_csv_path = \"output.csv\"\n",
        "pdf_to_csv(input_pdf_path, output_csv_path)\n"
      ],
      "metadata": {
        "colab": {
          "base_uri": "https://localhost:8080/"
        },
        "id": "m6ZotM-ijBm7",
        "outputId": "a408d819-a652-41e2-cae5-1d8120fde72f"
      },
      "execution_count": null,
      "outputs": [
        {
          "output_type": "stream",
          "name": "stdout",
          "text": [
            "PDF successfully converted to CSV file. Output saved at: output.csv\n"
          ]
        }
      ]
    }
  ]
}